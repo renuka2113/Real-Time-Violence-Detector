{
 "cells": [
  {
   "cell_type": "code",
   "execution_count": null,
   "id": "770bf12f",
   "metadata": {},
   "outputs": [],
   "source": [
    "import os\n",
    "import shutil\n",
    "import cv2\n",
    "import math\n",
    "import random\n",
    "import numpy as np\n",
    "import datetime as dt\n",
    "import tensorflow \n",
    "import keras\n",
    "from collections import deque\n",
    "import matplotlib.pyplot as plt\n",
    "import seaborn as sns\n",
    "sns.set_theme()\n",
    "\n",
    "from sklearn.model_selection import train_test_split\n",
    "\n",
    "import tensorflow as tf  \n",
    "from keras.layers import *\n",
    "from keras.models import load_model"
   ]
  },
  {
   "cell_type": "code",
   "execution_count": null,
   "id": "e9b1ba0d",
   "metadata": {},
   "outputs": [],
   "source": [
    "VIDEO_FRAME_HEIGHT = 64\n",
    "VIDEO_FRAME_WIDTH = 64\n",
    "FRAMES_IN_SEQUENCE = 16\n",
    "DATASET_DIRECTORY = \"./Dataset/Real Life Violence Dataset\"\n",
    "CLASS_LABELS = [\"NonViolence\",\"Violence\"]"
   ]
  },
  {
   "cell_type": "code",
   "execution_count": null,
   "id": "e4238c4a",
   "metadata": {},
   "outputs": [],
   "source": [
    "my_model = load_model('Model.h5')"
   ]
  },
  {
   "cell_type": "code",
   "execution_count": null,
   "id": "c606c2ac",
   "metadata": {},
   "outputs": [],
   "source": [
    "def predict_video_class(video_file_path, FRAMES_IN_SEQUENCE=16):\n",
    "    try:\n",
    "        video_reader = cv2.VideoCapture(video_file_path)\n",
    "        if not video_reader.isOpened():\n",
    "            print(\"Error: Unable to open video file.\")\n",
    "            return\n",
    "        video_frames_count = int(video_reader.get(cv2.CAP_PROP_FRAME_COUNT))\n",
    "        frames_list = []\n",
    "        skip_frames_window = max(int(video_frames_count / FRAMES_IN_SEQUENCE), 1)\n",
    "        for frame_counter in range(FRAMES_IN_SEQUENCE):\n",
    "            video_reader.set(cv2.CAP_PROP_POS_FRAMES, frame_counter * skip_frames_window)\n",
    "            frame_found, frame = video_reader.read()\n",
    "            if not frame_found:\n",
    "                print(\"Error: Unable to read frame from video.\")\n",
    "                return\n",
    "            resized_frame = cv2.resize(frame, (VIDEO_FRAME_HEIGHT, VIDEO_FRAME_WIDTH))\n",
    "            normalized_frame = resized_frame / 255\n",
    "            frames_list.append(normalized_frame)\n",
    "        predicted_labels_probabilities = my_model.predict(np.expand_dims(frames_list, axis=0))[0]\n",
    "        predicted_label_index = np.argmax(predicted_labels_probabilities)\n",
    "        predicted_class_name = CLASS_LABELS[predicted_label_index]\n",
    "        prediction_confidence = predicted_labels_probabilities[predicted_label_index]\n",
    "        return (predicted_class_name, prediction_confidence)\n",
    "    except Exception as e:\n",
    "        print(f\"An error occurred: {str(e)}\")\n",
    "    finally:\n",
    "        if video_reader:\n",
    "            video_reader.release()\n"
   ]
  },
  {
   "cell_type": "code",
   "execution_count": null,
   "id": "cea5bdc0",
   "metadata": {},
   "outputs": [],
   "source": [
    "def alert(send=False,msg=\"Violence Detected\"):\n",
    "    if send:\n",
    "        print (f\"Alert: {msg}\") \n",
    "    else:\n",
    "        print (\"Violence Detected\")"
   ]
  },
  {
   "cell_type": "code",
   "execution_count": null,
   "id": "d4551eee",
   "metadata": {},
   "outputs": [],
   "source": [
    "alert(True,\"violence detected\")"
   ]
  },
  {
   "cell_type": "code",
   "execution_count": null,
   "id": "56f39258",
   "metadata": {},
   "outputs": [],
   "source": [
    "def run(SEQUENCE_LENGTH=16):\n",
    "    print(\"Running\")\n",
    "    video_reader = cv2.VideoCapture(0)\n",
    "    original_video_width = int(video_reader.get(cv2.CAP_PROP_FRAME_WIDTH))\n",
    "    original_video_height = int(video_reader.get(cv2.CAP_PROP_FRAME_HEIGHT))\n",
    "    # cc = cv2.VideoWriter_fourcc(*'XVID')\n",
    "    cc = cv2.VideoWriter_fourcc(*'X264')\n",
    "    file = cv2.VideoWriter('output.avi', cc, 15.0, (640, 480))\n",
    "    # frames_queue = deque(maxlen = SEQUENCE_LENGTH)\n",
    "    frames_queue = []\n",
    "    predicted_class_name = ''\n",
    "    predicted_label = 0\n",
    "    cnt=0\n",
    "    KPS = 10\n",
    "    # fps = round(video_reader.get(cv2.CAP_PROP_FPS))\n",
    "    curr_frame = 0\n",
    "    send = True\n",
    "    while video_reader.isOpened():\n",
    "        try:\n",
    "            ok, frame = video_reader.read() \n",
    "            if not ok:\n",
    "                break\n",
    "            if curr_frame % KPS == 0:\n",
    "                resized_frame = cv2.resize(frame, (VIDEO_FRAME_HEIGHT, VIDEO_FRAME_WIDTH))\n",
    "                normalized_frame = resized_frame / 255\n",
    "                frames_queue.append(normalized_frame)\n",
    "                name = \"frame%d.jpg\"%curr_frame\n",
    "                cv2.imwrite(name, frame) \n",
    "            curr_frame += 1\n",
    "            if len(frames_queue) == SEQUENCE_LENGTH:\n",
    "                predicted_labels_probabilities = my_model.predict(np.expand_dims(frames_queue, axis = 0),verbose=0)[0]\n",
    "                predicted_label = np.argmax(predicted_labels_probabilities)\n",
    "                predicted_class_name = CLASS_LABELS[predicted_label] +' '+ str(float(predicted_labels_probabilities[predicted_label]))\n",
    "                frames_queue.clear()\n",
    "            if predicted_label == 1:\n",
    "                cv2.putText(frame, predicted_class_name, (5, 50), cv2.FONT_HERSHEY_SIMPLEX, 1, (0, 0, 255), 3)\n",
    "                cnt+=1\n",
    "            else:\n",
    "                cv2.putText(frame, predicted_class_name, (5, 50), cv2.FONT_HERSHEY_SIMPLEX, 1, (0, 255, 0), 3)\n",
    "                cnt=0\n",
    "            if cnt == 10:\n",
    "                alert(send)\n",
    "                send = False\n",
    "            if cv2.waitKey(1) & 0xFF == ord('q'):\n",
    "                break\n",
    "            cv2.waitKey(1)\n",
    "            cv2.imshow('Prediction', frame)\n",
    "            file.write(frame)    \n",
    "        except:\n",
    "            break\n",
    "    video_reader.release()\n",
    "    file.release()\n",
    "    cv2.destroyAllWindows() \n",
    "    print(\"Done\")"
   ]
  },
  {
   "cell_type": "code",
   "execution_count": null,
   "id": "1087f830",
   "metadata": {},
   "outputs": [],
   "source": [
    "run()"
   ]
  },
  {
   "cell_type": "code",
   "execution_count": null,
   "id": "c6b646f0",
   "metadata": {},
   "outputs": [],
   "source": []
  }
 ],
 "metadata": {
  "kernelspec": {
   "display_name": "tf_gpu",
   "language": "python",
   "name": "python3"
  },
  "language_info": {
   "codemirror_mode": {
    "name": "ipython",
    "version": 3
   },
   "file_extension": ".py",
   "mimetype": "text/x-python",
   "name": "python",
   "nbconvert_exporter": "python",
   "pygments_lexer": "ipython3",
   "version": "3.9.23"
  }
 },
 "nbformat": 4,
 "nbformat_minor": 5
}
